{
 "cells": [
  {
   "cell_type": "code",
   "execution_count": 1,
   "metadata": {},
   "outputs": [],
   "source": [
    "# https://blog.csdn.net/u013733326/article/details/79639509\n",
    "# 搭建一个能够 识别猫 的简单的神经网络"
   ]
  },
  {
   "cell_type": "code",
   "execution_count": 2,
   "metadata": {},
   "outputs": [],
   "source": [
    "import numpy as np\n",
    "import matplotlib.pyplot as plt\n",
    "import h5py\n",
    "from lr_utils import load_dataset"
   ]
  },
  {
   "cell_type": "code",
   "execution_count": 3,
   "metadata": {},
   "outputs": [],
   "source": [
    "train_x,train_y,test_x,test_y,classes = load_dataset()"
   ]
  },
  {
   "cell_type": "code",
   "execution_count": 4,
   "metadata": {},
   "outputs": [
    {
     "data": {
      "text/plain": [
       "array([[[[ 17,  31,  56],\n",
       "         [ 22,  33,  59],\n",
       "         [ 25,  35,  62],\n",
       "         ...,\n",
       "         [  1,  28,  57],\n",
       "         [  1,  26,  56],\n",
       "         [  1,  22,  51]],\n",
       "\n",
       "        [[ 25,  36,  62],\n",
       "         [ 28,  38,  64],\n",
       "         [ 30,  40,  67],\n",
       "         ...,\n",
       "         [  1,  27,  56],\n",
       "         [  1,  25,  55],\n",
       "         [  2,  21,  51]],\n",
       "\n",
       "        [[ 32,  40,  67],\n",
       "         [ 34,  42,  69],\n",
       "         [ 35,  42,  70],\n",
       "         ...,\n",
       "         [  1,  25,  55],\n",
       "         [  0,  24,  54],\n",
       "         [  1,  21,  51]],\n",
       "\n",
       "        ...,\n",
       "\n",
       "        [[  0,   0,   0],\n",
       "         [  0,   0,   0],\n",
       "         [  0,   0,   0],\n",
       "         ...,\n",
       "         [  0,   0,   0],\n",
       "         [  0,   0,   0],\n",
       "         [  0,   0,   0]],\n",
       "\n",
       "        [[  0,   0,   0],\n",
       "         [  0,   0,   0],\n",
       "         [  0,   0,   0],\n",
       "         ...,\n",
       "         [  0,   0,   0],\n",
       "         [  0,   0,   0],\n",
       "         [  0,   0,   0]],\n",
       "\n",
       "        [[  0,   0,   0],\n",
       "         [  0,   0,   0],\n",
       "         [  0,   0,   0],\n",
       "         ...,\n",
       "         [  0,   0,   0],\n",
       "         [  0,   0,   0],\n",
       "         [  0,   0,   0]]],\n",
       "\n",
       "\n",
       "       [[[196, 192, 190],\n",
       "         [193, 186, 182],\n",
       "         [188, 179, 174],\n",
       "         ...,\n",
       "         [ 90, 142, 200],\n",
       "         [ 90, 142, 201],\n",
       "         [ 90, 142, 201]],\n",
       "\n",
       "        [[230, 229, 229],\n",
       "         [204, 199, 197],\n",
       "         [193, 186, 181],\n",
       "         ...,\n",
       "         [ 91, 143, 201],\n",
       "         [ 91, 143, 201],\n",
       "         [ 91, 143, 201]],\n",
       "\n",
       "        [[232, 225, 224],\n",
       "         [235, 234, 234],\n",
       "         [208, 205, 202],\n",
       "         ...,\n",
       "         [ 91, 144, 202],\n",
       "         [ 91, 144, 202],\n",
       "         [ 92, 144, 202]],\n",
       "\n",
       "        ...,\n",
       "\n",
       "        [[ 18,  17,  15],\n",
       "         [ 14,  14,  13],\n",
       "         [ 29,  29,  32],\n",
       "         ...,\n",
       "         [ 83,  81,  81],\n",
       "         [ 84,  82,  83],\n",
       "         [ 82,  81,  82]],\n",
       "\n",
       "        [[ 22,  20,  18],\n",
       "         [ 16,  15,  14],\n",
       "         [ 25,  24,  24],\n",
       "         ...,\n",
       "         [ 82,  80,  80],\n",
       "         [ 83,  81,  82],\n",
       "         [ 82,  81,  81]],\n",
       "\n",
       "        [[ 45,  43,  39],\n",
       "         [ 61,  59,  54],\n",
       "         [ 81,  78,  74],\n",
       "         ...,\n",
       "         [ 83,  82,  81],\n",
       "         [ 84,  82,  82],\n",
       "         [ 82,  80,  81]]],\n",
       "\n",
       "\n",
       "       [[[ 82,  71,  68],\n",
       "         [ 89,  83,  83],\n",
       "         [100,  98, 104],\n",
       "         ...,\n",
       "         [131, 132, 137],\n",
       "         [126, 124, 124],\n",
       "         [105,  97,  95]],\n",
       "\n",
       "        [[ 95,  91,  97],\n",
       "         [104, 104, 113],\n",
       "         [110, 115, 126],\n",
       "         ...,\n",
       "         [135, 134, 135],\n",
       "         [127, 122, 119],\n",
       "         [111, 105, 103]],\n",
       "\n",
       "        [[ 94,  85,  83],\n",
       "         [ 97,  89,  90],\n",
       "         [110, 109, 115],\n",
       "         ...,\n",
       "         [136, 134, 131],\n",
       "         [127, 120, 117],\n",
       "         [116, 108, 104]],\n",
       "\n",
       "        ...,\n",
       "\n",
       "        [[ 96, 116, 131],\n",
       "         [ 97, 115, 130],\n",
       "         [103, 123, 139],\n",
       "         ...,\n",
       "         [152, 155, 157],\n",
       "         [146, 149, 152],\n",
       "         [130, 133, 134]],\n",
       "\n",
       "        [[ 90, 108, 123],\n",
       "         [ 92, 108, 121],\n",
       "         [100, 119, 134],\n",
       "         ...,\n",
       "         [150, 152, 155],\n",
       "         [144, 146, 147],\n",
       "         [134, 135, 134]],\n",
       "\n",
       "        [[ 86, 102, 116],\n",
       "         [ 87, 103, 115],\n",
       "         [ 94, 114, 127],\n",
       "         ...,\n",
       "         [154, 156, 160],\n",
       "         [146, 148, 152],\n",
       "         [138, 141, 142]]],\n",
       "\n",
       "\n",
       "       ...,\n",
       "\n",
       "\n",
       "       [[[143, 155, 165],\n",
       "         [184, 190, 198],\n",
       "         [142, 149, 155],\n",
       "         ...,\n",
       "         [ 99,  92, 102],\n",
       "         [120,  98, 102],\n",
       "         [100,  84,  95]],\n",
       "\n",
       "        [[151, 149, 139],\n",
       "         [173, 179, 185],\n",
       "         [105, 135, 141],\n",
       "         ...,\n",
       "         [ 91,  87,  99],\n",
       "         [119,  99, 104],\n",
       "         [120,  95, 101]],\n",
       "\n",
       "        [[204, 190, 185],\n",
       "         [180, 185, 195],\n",
       "         [117, 155, 177],\n",
       "         ...,\n",
       "         [ 96,  88, 101],\n",
       "         [125, 103, 110],\n",
       "         [120, 100, 110]],\n",
       "\n",
       "        ...,\n",
       "\n",
       "        [[ 41,  80, 116],\n",
       "         [ 41,  80, 116],\n",
       "         [ 41,  78, 115],\n",
       "         ...,\n",
       "         [ 63,  75,  98],\n",
       "         [ 60,  72,  98],\n",
       "         [ 60,  70,  96]],\n",
       "\n",
       "        [[ 71,  90, 121],\n",
       "         [ 73,  91, 123],\n",
       "         [ 74,  91, 124],\n",
       "         ...,\n",
       "         [ 79, 101, 142],\n",
       "         [ 80, 100, 140],\n",
       "         [ 82, 101, 139]],\n",
       "\n",
       "        [[ 71,  88, 122],\n",
       "         [ 73,  92, 128],\n",
       "         [ 76,  95, 131],\n",
       "         ...,\n",
       "         [ 81, 106, 150],\n",
       "         [ 85, 108, 151],\n",
       "         [ 85, 107, 149]]],\n",
       "\n",
       "\n",
       "       [[[ 22,  24,  23],\n",
       "         [ 23,  25,  24],\n",
       "         [ 24,  26,  25],\n",
       "         ...,\n",
       "         [ 24,  29,  25],\n",
       "         [ 23,  25,  22],\n",
       "         [ 20,  22,  21]],\n",
       "\n",
       "        [[ 22,  24,  23],\n",
       "         [ 23,  25,  24],\n",
       "         [ 23,  26,  25],\n",
       "         ...,\n",
       "         [ 22,  28,  23],\n",
       "         [ 20,  23,  22],\n",
       "         [ 19,  21,  21]],\n",
       "\n",
       "        [[ 22,  24,  22],\n",
       "         [ 23,  25,  24],\n",
       "         [ 23,  26,  25],\n",
       "         ...,\n",
       "         [ 23,  27,  23],\n",
       "         [ 20,  23,  21],\n",
       "         [ 18,  20,  19]],\n",
       "\n",
       "        ...,\n",
       "\n",
       "        [[  8,   5,   0],\n",
       "         [  9,   6,   1],\n",
       "         [  9,   6,   1],\n",
       "         ...,\n",
       "         [  4,   5,   0],\n",
       "         [  5,   4,   0],\n",
       "         [  4,   5,   0]],\n",
       "\n",
       "        [[  7,   5,   0],\n",
       "         [  8,   5,   1],\n",
       "         [  9,   6,   1],\n",
       "         ...,\n",
       "         [  4,   5,   0],\n",
       "         [  4,   5,   0],\n",
       "         [  4,   5,   0]],\n",
       "\n",
       "        [[  7,   5,   0],\n",
       "         [  8,   5,   0],\n",
       "         [  9,   6,   1],\n",
       "         ...,\n",
       "         [  4,   5,   0],\n",
       "         [  4,   5,   0],\n",
       "         [  4,   5,   0]]],\n",
       "\n",
       "\n",
       "       [[[  8,  28,  53],\n",
       "         [ 14,  33,  58],\n",
       "         [ 19,  35,  61],\n",
       "         ...,\n",
       "         [ 11,  16,  35],\n",
       "         [ 10,  16,  35],\n",
       "         [  9,  14,  32]],\n",
       "\n",
       "        [[ 15,  31,  57],\n",
       "         [ 15,  32,  58],\n",
       "         [ 18,  34,  60],\n",
       "         ...,\n",
       "         [ 13,  17,  35],\n",
       "         [ 13,  17,  35],\n",
       "         [ 13,  16,  35]],\n",
       "\n",
       "        [[ 20,  35,  61],\n",
       "         [ 19,  33,  59],\n",
       "         [ 20,  33,  59],\n",
       "         ...,\n",
       "         [ 16,  17,  35],\n",
       "         [ 16,  18,  35],\n",
       "         [ 15,  17,  35]],\n",
       "\n",
       "        ...,\n",
       "\n",
       "        [[  0,   0,   0],\n",
       "         [  0,   0,   0],\n",
       "         [  0,   0,   0],\n",
       "         ...,\n",
       "         [  0,   0,   0],\n",
       "         [  0,   0,   0],\n",
       "         [  0,   0,   0]],\n",
       "\n",
       "        [[  0,   0,   0],\n",
       "         [  0,   0,   0],\n",
       "         [  0,   0,   0],\n",
       "         ...,\n",
       "         [  0,   0,   0],\n",
       "         [  0,   0,   0],\n",
       "         [  0,   0,   0]],\n",
       "\n",
       "        [[  0,   0,   0],\n",
       "         [  0,   0,   0],\n",
       "         [  0,   0,   0],\n",
       "         ...,\n",
       "         [  0,   0,   0],\n",
       "         [  0,   0,   0],\n",
       "         [  0,   0,   0]]]], dtype=uint8)"
      ]
     },
     "execution_count": 4,
     "metadata": {},
     "output_type": "execute_result"
    }
   ],
   "source": [
    "train_x #包含209张 64x64x3的训练图片"
   ]
  },
  {
   "cell_type": "code",
   "execution_count": 5,
   "metadata": {},
   "outputs": [
    {
     "data": {
      "text/plain": [
       "(209, 64, 64, 3)"
      ]
     },
     "execution_count": 5,
     "metadata": {},
     "output_type": "execute_result"
    }
   ],
   "source": [
    "train_x.shape"
   ]
  },
  {
   "cell_type": "code",
   "execution_count": 6,
   "metadata": {},
   "outputs": [
    {
     "data": {
      "text/plain": [
       "(1, 209)"
      ]
     },
     "execution_count": 6,
     "metadata": {},
     "output_type": "execute_result"
    }
   ],
   "source": [
    "train_y.shape  #209张训练图片的标签"
   ]
  },
  {
   "cell_type": "code",
   "execution_count": 7,
   "metadata": {},
   "outputs": [
    {
     "data": {
      "text/plain": [
       "array([[[[158, 104,  83],\n",
       "         [161, 106,  85],\n",
       "         [162, 107,  84],\n",
       "         ...,\n",
       "         [170, 120, 100],\n",
       "         [167, 121, 103],\n",
       "         [172, 127, 109]],\n",
       "\n",
       "        [[158, 103,  82],\n",
       "         [160, 104,  82],\n",
       "         [162, 105,  83],\n",
       "         ...,\n",
       "         [169, 118,  99],\n",
       "         [164, 117,  98],\n",
       "         [168, 121, 104]],\n",
       "\n",
       "        [[158, 104,  82],\n",
       "         [161, 105,  82],\n",
       "         [162, 105,  83],\n",
       "         ...,\n",
       "         [173, 123, 102],\n",
       "         [169, 122, 104],\n",
       "         [168, 122, 104]],\n",
       "\n",
       "        ...,\n",
       "\n",
       "        [[102,  68,  52],\n",
       "         [ 44,  31,  23],\n",
       "         [ 28,  23,  20],\n",
       "         ...,\n",
       "         [163, 118, 102],\n",
       "         [163, 120, 103],\n",
       "         [166, 121, 105]],\n",
       "\n",
       "        [[ 99,  67,  51],\n",
       "         [ 38,  28,  22],\n",
       "         [ 30,  26,  23],\n",
       "         ...,\n",
       "         [161, 117, 100],\n",
       "         [164, 121, 104],\n",
       "         [168, 123, 106]],\n",
       "\n",
       "        [[127,  95,  72],\n",
       "         [ 39,  29,  22],\n",
       "         [ 30,  25,  22],\n",
       "         ...,\n",
       "         [165, 122, 105],\n",
       "         [169, 126, 109],\n",
       "         [173, 128, 110]]],\n",
       "\n",
       "\n",
       "       [[[115, 110, 111],\n",
       "         [137, 129, 129],\n",
       "         [155, 146, 145],\n",
       "         ...,\n",
       "         [159, 156, 157],\n",
       "         [141, 141, 145],\n",
       "         [121, 122, 127]],\n",
       "\n",
       "        [[123, 118, 120],\n",
       "         [143, 136, 136],\n",
       "         [159, 153, 150],\n",
       "         ...,\n",
       "         [167, 164, 165],\n",
       "         [151, 151, 154],\n",
       "         [130, 133, 137]],\n",
       "\n",
       "        [[135, 130, 130],\n",
       "         [150, 145, 141],\n",
       "         [164, 159, 153],\n",
       "         ...,\n",
       "         [173, 174, 172],\n",
       "         [160, 162, 162],\n",
       "         [141, 144, 148]],\n",
       "\n",
       "        ...,\n",
       "\n",
       "        [[197, 196, 205],\n",
       "         [208, 209, 214],\n",
       "         [215, 216, 220],\n",
       "         ...,\n",
       "         [222, 224, 229],\n",
       "         [205, 208, 215],\n",
       "         [185, 189, 197]],\n",
       "\n",
       "        [[190, 192, 199],\n",
       "         [203, 205, 210],\n",
       "         [213, 214, 218],\n",
       "         ...,\n",
       "         [217, 220, 225],\n",
       "         [198, 202, 209],\n",
       "         [178, 182, 191]],\n",
       "\n",
       "        [[183, 186, 193],\n",
       "         [197, 199, 205],\n",
       "         [208, 210, 214],\n",
       "         ...,\n",
       "         [212, 215, 220],\n",
       "         [192, 196, 203],\n",
       "         [171, 176, 186]]],\n",
       "\n",
       "\n",
       "       [[[255, 253, 254],\n",
       "         [255, 253, 254],\n",
       "         [255, 253, 254],\n",
       "         ...,\n",
       "         [197, 178, 118],\n",
       "         [195, 177, 116],\n",
       "         [192, 176, 115]],\n",
       "\n",
       "        [[255, 253, 254],\n",
       "         [255, 253, 254],\n",
       "         [255, 253, 254],\n",
       "         ...,\n",
       "         [197, 178, 120],\n",
       "         [195, 176, 118],\n",
       "         [193, 174, 118]],\n",
       "\n",
       "        [[255, 253, 254],\n",
       "         [255, 253, 254],\n",
       "         [255, 253, 254],\n",
       "         ...,\n",
       "         [197, 177, 121],\n",
       "         [194, 174, 121],\n",
       "         [190, 171, 122]],\n",
       "\n",
       "        ...,\n",
       "\n",
       "        [[ 94,  95,  97],\n",
       "         [102, 104, 108],\n",
       "         [115, 113, 115],\n",
       "         ...,\n",
       "         [ 68,  67,  91],\n",
       "         [ 71,  55,  80],\n",
       "         [ 64,  51,  82]],\n",
       "\n",
       "        [[ 68,  71,  69],\n",
       "         [ 75,  79,  80],\n",
       "         [ 82,  91,  91],\n",
       "         ...,\n",
       "         [122, 103, 109],\n",
       "         [114,  84,  99],\n",
       "         [ 97,  72, 100]],\n",
       "\n",
       "        [[ 67,  86,  89],\n",
       "         [ 62,  83,  90],\n",
       "         [ 47,  73,  82],\n",
       "         ...,\n",
       "         [147, 120, 125],\n",
       "         [142, 110, 118],\n",
       "         [133, 101, 121]]],\n",
       "\n",
       "\n",
       "       ...,\n",
       "\n",
       "\n",
       "       [[[ 41,  47,  84],\n",
       "         [ 72,  78, 112],\n",
       "         [103, 102, 124],\n",
       "         ...,\n",
       "         [125, 112, 119],\n",
       "         [107, 101, 117],\n",
       "         [ 76,  79, 109]],\n",
       "\n",
       "        [[ 93,  96, 119],\n",
       "         [112, 109, 124],\n",
       "         [130, 122, 136],\n",
       "         ...,\n",
       "         [141, 121, 118],\n",
       "         [130, 112, 114],\n",
       "         [122, 109, 117]],\n",
       "\n",
       "        [[119, 114, 123],\n",
       "         [133, 124, 128],\n",
       "         [164, 149, 145],\n",
       "         ...,\n",
       "         [187, 160, 135],\n",
       "         [157, 132, 120],\n",
       "         [136, 115, 109]],\n",
       "\n",
       "        ...,\n",
       "\n",
       "        [[233, 223, 207],\n",
       "         [235, 226, 218],\n",
       "         [242, 236, 235],\n",
       "         ...,\n",
       "         [164, 170, 196],\n",
       "         [189, 185, 196],\n",
       "         [190, 182, 188]],\n",
       "\n",
       "        [[247, 250, 248],\n",
       "         [236, 238, 232],\n",
       "         [219, 215, 219],\n",
       "         ...,\n",
       "         [118, 101, 117],\n",
       "         [153, 134, 154],\n",
       "         [174, 146, 156]],\n",
       "\n",
       "        [[253, 254, 254],\n",
       "         [246, 250, 249],\n",
       "         [226, 233, 234],\n",
       "         ...,\n",
       "         [154, 111,  93],\n",
       "         [176, 132, 104],\n",
       "         [183, 141, 116]]],\n",
       "\n",
       "\n",
       "       [[[ 18,  18,  16],\n",
       "         [ 35,  36,  31],\n",
       "         [ 54,  57,  52],\n",
       "         ...,\n",
       "         [138, 140, 118],\n",
       "         [139, 141, 124],\n",
       "         [130, 129, 114]],\n",
       "\n",
       "        [[ 21,  21,  18],\n",
       "         [ 44,  45,  39],\n",
       "         [ 68,  74,  66],\n",
       "         ...,\n",
       "         [128, 131, 109],\n",
       "         [116, 117,  98],\n",
       "         [ 95,  93,  76]],\n",
       "\n",
       "        [[ 30,  31,  26],\n",
       "         [ 54,  58,  52],\n",
       "         [ 99, 110, 104],\n",
       "         ...,\n",
       "         [127, 129, 108],\n",
       "         [113, 114,  94],\n",
       "         [ 99,  99,  82]],\n",
       "\n",
       "        ...,\n",
       "\n",
       "        [[178, 178, 163],\n",
       "         [161, 163, 146],\n",
       "         [170, 174, 163],\n",
       "         ...,\n",
       "         [112, 108,  85],\n",
       "         [149, 150, 131],\n",
       "         [180, 185, 172]],\n",
       "\n",
       "        [[182, 183, 167],\n",
       "         [172, 175, 162],\n",
       "         [170, 173, 162],\n",
       "         ...,\n",
       "         [ 88,  90,  77],\n",
       "         [122, 115,  89],\n",
       "         [157, 154, 131]],\n",
       "\n",
       "        [[188, 190, 179],\n",
       "         [173, 175, 163],\n",
       "         [160, 162, 146],\n",
       "         ...,\n",
       "         [ 48,  50,  44],\n",
       "         [103, 103,  89],\n",
       "         [144, 137, 108]]],\n",
       "\n",
       "\n",
       "       [[[133, 163,  75],\n",
       "         [ 98, 120,  44],\n",
       "         [108, 132,  47],\n",
       "         ...,\n",
       "         [ 96, 138,  97],\n",
       "         [ 96, 146, 109],\n",
       "         [ 81, 132, 101]],\n",
       "\n",
       "        [[ 79, 102,  39],\n",
       "         [ 83, 112,  33],\n",
       "         [ 76, 106,  26],\n",
       "         ...,\n",
       "         [ 99, 149,  76],\n",
       "         [ 71, 119,  62],\n",
       "         [ 58, 106,  72]],\n",
       "\n",
       "        [[ 35,  53,  27],\n",
       "         [ 54,  74,  46],\n",
       "         [ 35,  55,  17],\n",
       "         ...,\n",
       "         [110, 157, 122],\n",
       "         [ 72, 119,  89],\n",
       "         [ 81, 131, 108]],\n",
       "\n",
       "        ...,\n",
       "\n",
       "        [[ 76, 108,  79],\n",
       "         [ 70, 110,  83],\n",
       "         [ 70, 105,  84],\n",
       "         ...,\n",
       "         [ 25,  49,  21],\n",
       "         [ 26,  53,  24],\n",
       "         [ 27,  54,  28]],\n",
       "\n",
       "        [[109, 120,  97],\n",
       "         [ 86, 116,  86],\n",
       "         [ 71, 105,  79],\n",
       "         ...,\n",
       "         [ 17,  46,  20],\n",
       "         [ 23,  49,  28],\n",
       "         [ 19,  33,  18]],\n",
       "\n",
       "        [[ 97, 117, 100],\n",
       "         [ 70, 108,  75],\n",
       "         [ 75,  99,  69],\n",
       "         ...,\n",
       "         [  8,  33,  12],\n",
       "         [ 13,  35,  18],\n",
       "         [  5,  22,   5]]]], dtype=uint8)"
      ]
     },
     "execution_count": 7,
     "metadata": {},
     "output_type": "execute_result"
    }
   ],
   "source": [
    "test_x"
   ]
  },
  {
   "cell_type": "code",
   "execution_count": 8,
   "metadata": {},
   "outputs": [
    {
     "data": {
      "text/plain": [
       "(50, 64, 64, 3)"
      ]
     },
     "execution_count": 8,
     "metadata": {},
     "output_type": "execute_result"
    }
   ],
   "source": [
    "test_x.shape  #包含50张 64x64x3的测试图片"
   ]
  },
  {
   "cell_type": "code",
   "execution_count": 9,
   "metadata": {},
   "outputs": [
    {
     "data": {
      "text/plain": [
       "(1, 50)"
      ]
     },
     "execution_count": 9,
     "metadata": {},
     "output_type": "execute_result"
    }
   ],
   "source": [
    "test_y.shape  #50张测试图片的标签"
   ]
  },
  {
   "cell_type": "code",
   "execution_count": 10,
   "metadata": {},
   "outputs": [
    {
     "data": {
      "text/plain": [
       "array([b'non-cat', b'cat'], dtype='|S7')"
      ]
     },
     "execution_count": 10,
     "metadata": {},
     "output_type": "execute_result"
    }
   ],
   "source": [
    "classes #保存的是以bytes类型保存的两个字符串数据，数据为：[b’non-cat’ b’cat’]"
   ]
  },
  {
   "cell_type": "code",
   "execution_count": 11,
   "metadata": {},
   "outputs": [
    {
     "data": {
      "text/plain": [
       "array([0], dtype=int64)"
      ]
     },
     "execution_count": 11,
     "metadata": {},
     "output_type": "execute_result"
    }
   ],
   "source": [
    "train_y[:,64]"
   ]
  },
  {
   "cell_type": "code",
   "execution_count": 12,
   "metadata": {},
   "outputs": [
    {
     "name": "stdout",
     "output_type": "stream",
     "text": [
      "train_y[:,64] = [0],it's a non-cat picture\n"
     ]
    },
    {
     "data": {
      "image/png": "[encoded data removed]",
      "text/plain": [
       "<Figure size 432x288 with 1 Axes>"
      ]
     },
     "metadata": {
      "needs_background": "light"
     },
     "output_type": "display_data"
    }
   ],
   "source": [
    "# 我们可以看一下我们加载的文件里面的图片都是些什么样子的\n",
    "plt.imshow(train_x[64])\n",
    "print(\"train_y[:,64] = \"+ str(train_y[:,64]) + \",it's a \"+classes[np.squeeze(train_y[:,64])].decode('utf-8')+\" picture\")\n",
    "\n",
    "# 这里的np.squeeze()的作用是:从数组的形状中删除单维条目，即把shape中为1的维度去掉\n",
    "# 因为train_y[:,64] = [0],所以想得到 0 ，就可以用np.squeeze()\n",
    "# 当然我们也可以直接用train_y[0][26] 直接取到 0"
   ]
  },
  {
   "cell_type": "code",
   "execution_count": 13,
   "metadata": {},
   "outputs": [
    {
     "name": "stdout",
     "output_type": "stream",
     "text": [
      "train_y[26] is 0\n"
     ]
    },
    {
     "data": {
      "image/png": "[encoded data removed]",
      "text/plain": [
       "<Figure size 432x288 with 1 Axes>"
      ]
     },
     "metadata": {
      "needs_background": "light"
     },
     "output_type": "display_data"
    }
   ],
   "source": [
    "plt.imshow(train_x[26])\n",
    "print(\"train_y[26] is \"+str(train_y[0][26]))"
   ]
  },
  {
   "cell_type": "code",
   "execution_count": 14,
   "metadata": {},
   "outputs": [
    {
     "name": "stdout",
     "output_type": "stream",
     "text": [
      "train_y[:,25] = [1],it's a cat picture\n"
     ]
    },
    {
     "data": {
      "image/png": "[encoded data removed]",
      "text/plain": [
       "<Figure size 432x288 with 1 Axes>"
      ]
     },
     "metadata": {
      "needs_background": "light"
     },
     "output_type": "display_data"
    }
   ],
   "source": [
    "plt.imshow(train_x[25])\n",
    "print(\"train_y[:,25] = \"+ str(train_y[:,25]) + \",it's a \"+classes[np.squeeze(train_y[:,25])].decode('utf-8')+\" picture\")  \n",
    "#终于看到一只猫了，哈哈哈，还是好丑"
   ]
  },
  {
   "cell_type": "code",
   "execution_count": 15,
   "metadata": {},
   "outputs": [],
   "source": [
    "# 为了方便，我们要把维度为（64，64，3）的numpy数组重新构造为（64 x 64 x 3，1）的数组，要乘以3的原因是每张图片是由64x64像素构成的，\n",
    "# 而每个像素点由（R，G，B）三原色构成的，所以要乘以3。在此之后，我们的训练和测试数据集是一个numpy数组，【每 列 代表一个平坦的图像】 ，\n",
    "#应该有m_train和m_test列。"
   ]
  },
  {
   "cell_type": "code",
   "execution_count": 16,
   "metadata": {},
   "outputs": [],
   "source": [
    "# 当你想将形状（a，b，c，d）的矩阵X 平铺成形状（b * c * d，a）的矩阵X_flatten时，可以使用以下代码：\n",
    "#X_flatten = X.reshape(X.shape [0]，-1).T   ＃X.T是X的转置\n",
    "\n",
    "#将训练集的维度降低并转置。\n",
    "train_x_flatten = train_x.reshape(train_x.shape[0],-1).T\n",
    "\n",
    "#将测试集的维度降低并转置。\n",
    "test_x_flatten = test_x.reshape(test_x.shape[0],-1).T\n",
    "\n",
    "# 这一段意思是指把数组变为209行的矩阵（因为训练集里有209张图片），但是我懒得算列有多少，于是我就用-1告诉程序你帮我算，最后程序\n",
    "# 算出来时12288列，我再最后用一个T表示转置，这就变成了12288行，209列。测试集亦如此。"
   ]
  },
  {
   "cell_type": "code",
   "execution_count": 17,
   "metadata": {},
   "outputs": [
    {
     "name": "stdout",
     "output_type": "stream",
     "text": [
      "训练集降维最后的维度： (12288, 209)\n",
      "训练集_标签的维数 : (1, 209)\n",
      "测试集降维之后的维度: (12288, 50)\n",
      "测试集_标签的维数 : (1, 50)\n"
     ]
    }
   ],
   "source": [
    "print (\"训练集降维最后的维度： \" + str(train_x_flatten.shape))\n",
    "print (\"训练集_标签的维数 : \" + str(train_y.shape))\n",
    "print (\"测试集降维之后的维度: \" + str(test_x_flatten.shape))\n",
    "print (\"测试集_标签的维数 : \" + str(test_y.shape))"
   ]
  },
  {
   "cell_type": "code",
   "execution_count": 18,
   "metadata": {},
   "outputs": [],
   "source": [
    "# 为了表示彩色图像，必须为每个像素指定红色，绿色和蓝色通道（RGB），因此像素值实际上是从0到255范围内的三个数字的向量。机器学习中一个\n",
    "# 常见的预处理步骤是对数据集进行居中和标准化，这意味着可以减去每个示例中整个numpy数组的(平均值)，然后将每个示例除以整个numpy数组的标准\n",
    "# (偏差)。但对于(图片数据集)，它更简单，更方便，几乎可以将数据集的每一行除以255（像素通道的最大值），因为在RGB中不存在比255大的数据，\n",
    "# 所以我们可以放心的除以255，让标准化的数据位于[0,1]之间，现在标准化我们的数据集：\n",
    "\n",
    "train_x_std = train_x_flatten / 255\n",
    "test_x_std = test_x_flatten / 255"
   ]
  },
  {
   "cell_type": "code",
   "execution_count": 19,
   "metadata": {},
   "outputs": [
    {
     "data": {
      "text/plain": [
       "array([[0.06666667, 0.76862745, 0.32156863, ..., 0.56078431, 0.08627451,\n",
       "        0.03137255],\n",
       "       [0.12156863, 0.75294118, 0.27843137, ..., 0.60784314, 0.09411765,\n",
       "        0.10980392],\n",
       "       [0.21960784, 0.74509804, 0.26666667, ..., 0.64705882, 0.09019608,\n",
       "        0.20784314],\n",
       "       ...,\n",
       "       [0.        , 0.32156863, 0.54117647, ..., 0.33333333, 0.01568627,\n",
       "        0.        ],\n",
       "       [0.        , 0.31372549, 0.55294118, ..., 0.41960784, 0.01960784,\n",
       "        0.        ],\n",
       "       [0.        , 0.31764706, 0.55686275, ..., 0.58431373, 0.        ,\n",
       "        0.        ]])"
      ]
     },
     "execution_count": 19,
     "metadata": {},
     "output_type": "execute_result"
    }
   ],
   "source": [
    "train_x_std"
   ]
  },
  {
   "cell_type": "code",
   "execution_count": 20,
   "metadata": {},
   "outputs": [],
   "source": [
    "# 开始构建神经网络"
   ]
  },
  {
   "cell_type": "code",
   "execution_count": 21,
   "metadata": {},
   "outputs": [],
   "source": [
    "# 建立神经网络的主要步骤是： \n",
    "# 1. 定义模型结构（例如输入特征的数量） \n",
    "# 2. 初始化模型的参数 \n",
    "# 3. 循环（迭代次数）：\n",
    "#     3.1 计算当前损失（正向传播）\n",
    "\n",
    "#     3.2 计算当前梯度（反向传播）\n",
    "\n",
    "#     3.3 更新参数（梯度下降）"
   ]
  },
  {
   "cell_type": "code",
   "execution_count": 22,
   "metadata": {},
   "outputs": [],
   "source": [
    "# 现在构建sigmoid()，需要使用 sigmoid（w ^ T x + b） 计算来做出预测。\n",
    "\n",
    "def sigmoid(z):\n",
    "    return 1 / (1 + np.exp(-z))"
   ]
  },
  {
   "cell_type": "code",
   "execution_count": 23,
   "metadata": {},
   "outputs": [
    {
     "data": {
      "text/plain": [
       "0.5"
      ]
     },
     "execution_count": 23,
     "metadata": {},
     "output_type": "execute_result"
    }
   ],
   "source": [
    "sigmoid(0)"
   ]
  },
  {
   "cell_type": "code",
   "execution_count": 24,
   "metadata": {},
   "outputs": [
    {
     "data": {
      "text/plain": [
       "0.9998989708060922"
      ]
     },
     "execution_count": 24,
     "metadata": {},
     "output_type": "execute_result"
    }
   ],
   "source": [
    "sigmoid(9.2)"
   ]
  },
  {
   "cell_type": "code",
   "execution_count": 25,
   "metadata": {},
   "outputs": [],
   "source": [
    "# 既然sigmoid测试好了，我们现在就可以初始化我们需要的参数w和b了。\n",
    "def init_w_b(dim):                 # dim = 64*64*3\n",
    "    w = np.zeros(shape=(dim,1))\n",
    "    b = 0\n",
    "    \n",
    "    assert(w.shape == (dim,1))\n",
    "    assert(isinstance(b,float) or isinstance(b,int))\n",
    "    \n",
    "    return w,b"
   ]
  },
  {
   "cell_type": "code",
   "execution_count": 35,
   "metadata": {},
   "outputs": [],
   "source": [
    "# 初始化参数的函数已经构建好了，现在就可以执行“前向”和“后向”传播步骤来学习参数。\n",
    "\n",
    "# 我们现在要实现一个计算成本函数及其渐变的函数propagate（）\n",
    "def propagate(w,b,X,Y):\n",
    "    m = X.shape[1]       # m = 209\n",
    "    \n",
    "    # 正向传播\n",
    "    A = sigmoid(np.dot(w.T,X) + b)        # A.shape = (1,209)\n",
    "    cost = (-1 / m) * np.sum(Y * np.log(A) + (1 - Y) * np.log(1 - A))\n",
    "    \n",
    "    # 反向传播\n",
    "    dw = (1 / m) * np.dot(X,(A - Y).T)  # dw.shape = (209,1)\n",
    "    db = (1 / m) * np.sum(A - Y)\n",
    "    \n",
    "    #使用断言确保我的数据是正确的\n",
    "    assert(dw.shape == w.shape)\n",
    "    assert(db.dtype == float)\n",
    "    cost = np.squeeze(cost)\n",
    "    assert(cost.shape == ())\n",
    "    \n",
    "    #创建一个字典，把dw和db保存起来。\n",
    "    grads = {\n",
    "        'dw':dw,\n",
    "        'db':db\n",
    "    }\n",
    "    \n",
    "    return (grads,cost)"
   ]
  },
  {
   "cell_type": "code",
   "execution_count": 27,
   "metadata": {},
   "outputs": [],
   "source": [
    "# 现在，我要使用渐变下降更新参数。目标是通过最小化成本函数J来学习 w和b。\n",
    "def optimize(w , b , X , Y , num_iterations , learning_rate , print_cost = False):\n",
    "    costs = []\n",
    "    \n",
    "    for i in range(num_iterations):\n",
    "        \n",
    "        grads,cost = propagate(w , b , X , Y)\n",
    "        \n",
    "        dw = grads[\"dw\"]\n",
    "        db = grads[\"db\"]\n",
    "        \n",
    "        w -= learning_rate * dw\n",
    "        b -= learning_rate * db\n",
    "        \n",
    "        # 记录成本\n",
    "        if i % 100 == 0:\n",
    "            costs.append(cost)\n",
    "            \n",
    "        # 打印成本\n",
    "        if (print_cost) and (i % 100 == 0):\n",
    "            print(\"迭代的次数:{} , 误差值:{}\".format(i,cost))\n",
    "            \n",
    "    params = {\n",
    "        \"w\":w,\n",
    "        \"b\":b\n",
    "    }\n",
    "    \n",
    "    grids = {\n",
    "        'dw':dw,\n",
    "        'db':db\n",
    "    }\n",
    "    \n",
    "    return (params,grads,costs)\n",
    "        "
   ]
  },
  {
   "cell_type": "code",
   "execution_count": 65,
   "metadata": {},
   "outputs": [],
   "source": [
    "# optimize函数会输出已学习的w和b的值，我们可以使用w和b来预测数据集X的标签。现在我们要实现预测函数predict（）。\n",
    "\n",
    "def predict(w , b , X ):\n",
    "    m = X.shape[1] # 图片的数量209\n",
    "    Y_predict = np.zeros(shape = (1,m))\n",
    "#     w = w.reshape(X.shape[0],1)\n",
    "    \n",
    "    A = sigmoid(np.dot(w.T,X) + b)\n",
    "    for i in range(m):\n",
    "        #将概率a [0，i]转换为实际预测p [0，i]\n",
    "        Y_predict[0,i] = 1 if A[0,i] > 0.5 else 0\n",
    "    \n",
    "    # 使用断言\n",
    "    assert(Y_predict.shape == (1,m))\n",
    "    \n",
    "    return Y_predict"
   ]
  },
  {
   "cell_type": "code",
   "execution_count": 56,
   "metadata": {},
   "outputs": [],
   "source": [
    "# 就目前而言，我们基本上把所有的东西都做完了，现在我们要把这些函数统统整合到一个model()函数中，\n",
    "# 届时只需要调用一个model()就基本上完成所有的事了。\n",
    "\n",
    "def model(X_train,Y_train , X_test , Y_test , num_iterations = 2000 , learning_rate = 0.5 , print_cost = False):\n",
    "    # 样本数209\n",
    "    m = X_train.shape[1]\n",
    "    \n",
    "    # 初始化参数\n",
    "    w, b = init_w_b(X_train.shape[0])\n",
    "    \n",
    "    # 优化，迭代\n",
    "    params,grads,costs = optimize(w,b,X_train,Y_train,num_iterations,learning_rate,print_cost)\n",
    "    \n",
    "    # 从params中得到最后的参数 w,b\n",
    "    w = params[\"w\"]\n",
    "    b = params[\"b\"]\n",
    "    \n",
    "    # 预测训练集/测试集的例子\n",
    "    Y_predict_train = predict(w,b,X_train)\n",
    "    Y_predict_test = predict(w,b,X_test)\n",
    "    \n",
    "    # 打印训练后的准确性\n",
    "    print(\"训练集准确性:{}\".format((m - (np.sum(np.abs(Y_predict_train - Y_train),axis = 1))) / m * 100) + \"%\")\n",
    "    print(\"测试集准确性:{}\".format((m - (np.sum(np.abs(Y_predict_test - Y_test),axis = 1))) / m * 100) + \"%\")\n",
    "    \n",
    "    d = {\n",
    "            \"costs\" : costs,\n",
    "            \"Y_predict_test\" : Y_predict_test,\n",
    "            \"Y_predict_train\" : Y_predict_train,\n",
    "            \"w\" : w,\n",
    "            \"b\" : b,\n",
    "            \"learning_rate\" : learning_rate,\n",
    "            \"num_iterations\" : num_iterations }\n",
    "    return d"
   ]
  },
  {
   "cell_type": "code",
   "execution_count": 66,
   "metadata": {},
   "outputs": [
    {
     "name": "stdout",
     "output_type": "stream",
     "text": [
      "====================测试model====================\n",
      "迭代的次数:0 , 误差值:0.6931471805599453\n",
      "迭代的次数:100 , 误差值:0.5845083636993086\n",
      "迭代的次数:200 , 误差值:0.46694904094655476\n",
      "迭代的次数:300 , 误差值:0.37600686694802077\n",
      "迭代的次数:400 , 误差值:0.3314632893282513\n",
      "迭代的次数:500 , 误差值:0.30327306747438293\n",
      "迭代的次数:600 , 误差值:0.2798795865826048\n",
      "迭代的次数:700 , 误差值:0.26004213692587574\n",
      "迭代的次数:800 , 误差值:0.24294068467796623\n",
      "迭代的次数:900 , 误差值:0.22800422256726066\n",
      "迭代的次数:1000 , 误差值:0.21481951378449635\n",
      "迭代的次数:1100 , 误差值:0.20307819060644985\n",
      "迭代的次数:1200 , 误差值:0.1925442771670686\n",
      "迭代的次数:1300 , 误差值:0.18303333796883503\n",
      "迭代的次数:1400 , 误差值:0.17439859438448876\n",
      "迭代的次数:1500 , 误差值:0.16652139705400335\n",
      "迭代的次数:1600 , 误差值:0.15930451829756614\n",
      "迭代的次数:1700 , 误差值:0.15266732471296504\n",
      "迭代的次数:1800 , 误差值:0.1465422350398234\n",
      "迭代的次数:1900 , 误差值:0.14087207570310162\n",
      "训练集准确性:[99.0430622]%\n",
      "测试集准确性:[92.82296651]%\n"
     ]
    }
   ],
   "source": [
    "print(\"====================测试model====================\")     \n",
    "#这里加载的是真实的数据，请参见上面的代码部分。\n",
    "d = model(train_x_std, train_y, test_x_std, test_y, num_iterations = 2000, learning_rate = 0.005, print_cost = True)"
   ]
  },
  {
   "cell_type": "code",
   "execution_count": 71,
   "metadata": {},
   "outputs": [
    {
     "name": "stdout",
     "output_type": "stream",
     "text": [
      "{'costs': [0.6931471805599453, 0.5845083636993086, 0.46694904094655476, 0.37600686694802077, 0.3314632893282513, 0.30327306747438293, 0.2798795865826048, 0.26004213692587574, 0.24294068467796623, 0.22800422256726066, 0.21481951378449635, 0.20307819060644985, 0.1925442771670686, 0.18303333796883503, 0.17439859438448876, 0.16652139705400335, 0.15930451829756614, 0.15266732471296504, 0.1465422350398234, 0.14087207570310162], 'Y_predict_test': array([[1., 1., 1., 1., 1., 1., 0., 1., 1., 1., 0., 0., 1., 1., 0., 1.,\n",
      "        0., 1., 0., 0., 1., 0., 0., 1., 1., 1., 1., 0., 0., 1., 0., 1.,\n",
      "        1., 0., 1., 0., 0., 1., 0., 0., 1., 0., 1., 0., 1., 0., 0., 1.,\n",
      "        1., 0.]]), 'Y_predict_train': array([[0., 0., 1., 0., 0., 0., 0., 1., 0., 0., 0., 1., 0., 1., 1., 0.,\n",
      "        0., 0., 0., 1., 0., 0., 0., 0., 1., 1., 0., 1., 0., 1., 0., 0.,\n",
      "        0., 0., 0., 0., 0., 0., 1., 0., 0., 0., 1., 0., 0., 0., 0., 1.,\n",
      "        0., 0., 1., 0., 0., 0., 1., 0., 1., 1., 0., 1., 1., 1., 0., 0.,\n",
      "        0., 0., 0., 0., 1., 0., 0., 1., 0., 0., 0., 1., 0., 0., 0., 0.,\n",
      "        0., 0., 0., 1., 1., 0., 0., 0., 1., 0., 0., 0., 1., 1., 1., 0.,\n",
      "        0., 1., 0., 0., 0., 0., 1., 0., 1., 0., 1., 1., 1., 1., 1., 1.,\n",
      "        0., 0., 0., 0., 0., 1., 0., 0., 0., 1., 0., 0., 1., 0., 1., 0.,\n",
      "        1., 1., 0., 0., 0., 1., 1., 1., 1., 1., 0., 0., 0., 0., 1., 0.,\n",
      "        1., 1., 1., 0., 1., 1., 0., 0., 0., 1., 0., 0., 1., 0., 0., 0.,\n",
      "        0., 0., 1., 0., 1., 0., 1., 0., 0., 1., 1., 1., 0., 0., 1., 1.,\n",
      "        0., 1., 0., 1., 0., 0., 0., 0., 0., 1., 0., 0., 1., 0., 0., 0.,\n",
      "        1., 0., 0., 0., 0., 1., 0., 0., 1., 0., 0., 0., 0., 0., 0., 0.,\n",
      "        0.]]), 'w': array([[ 0.00961402],\n",
      "       [-0.0264683 ],\n",
      "       [-0.01226513],\n",
      "       ...,\n",
      "       [-0.01144453],\n",
      "       [-0.02944783],\n",
      "       [ 0.02378106]]), 'b': -0.01590624399969298, 'learning_rate': 0.005, 'num_iterations': 2000}\n"
     ]
    }
   ],
   "source": [
    "print(d)"
   ]
  },
  {
   "cell_type": "code",
   "execution_count": 90,
   "metadata": {},
   "outputs": [
    {
     "data": {
      "image/png": "[encoded data removed]",
      "text/plain": [
       "<Figure size 432x288 with 1 Axes>"
      ]
     },
     "metadata": {
      "needs_background": "light"
     },
     "output_type": "display_data"
    }
   ],
   "source": [
    "costs = d['costs']\n",
    "x = [i for i in range(0,20,1)]\n",
    "plt.plot(costs)\n",
    "plt.xticks(x)\n",
    "plt.ylabel('cost')\n",
    "plt.xlabel('iterations (per hundreds)')\n",
    "plt.title(\"Learning rate =\" + str(d[\"learning_rate\"]))\n",
    "plt.show()"
   ]
  },
  {
   "cell_type": "code",
   "execution_count": 92,
   "metadata": {},
   "outputs": [
    {
     "name": "stdout",
     "output_type": "stream",
     "text": [
      "learning rate is: 0.01\n",
      "训练集准确性:[99.5215311]%\n",
      "测试集准确性:[92.82296651]%\n",
      "\n",
      "-------------------------------------------------------\n",
      "\n",
      "learning rate is: 0.001\n",
      "训练集准确性:[91.38755981]%\n",
      "测试集准确性:[92.34449761]%\n",
      "\n",
      "-------------------------------------------------------\n",
      "\n",
      "learning rate is: 0.0001\n",
      "训练集准确性:[71.29186603]%\n",
      "测试集准确性:[85.64593301]%\n",
      "\n",
      "-------------------------------------------------------\n",
      "\n"
     ]
    },
    {
     "data": {
      "image/png": "[encoded data removed]",
      "text/plain": [
       "<Figure size 432x288 with 1 Axes>"
      ]
     },
     "metadata": {
      "needs_background": "light"
     },
     "output_type": "display_data"
    }
   ],
   "source": [
    "learning_rates = [0.01, 0.001, 0.0001]\n",
    "models = {}\n",
    "for i in learning_rates:\n",
    "    print (\"learning rate is: \" + str(i))\n",
    "    models[str(i)] = model(train_x_std, train_y, test_x_std, test_y, num_iterations = 2000, learning_rate = i, print_cost = False)\n",
    "    print ('\\n' + \"-------------------------------------------------------\" + '\\n')\n",
    "\n",
    "for i in learning_rates:\n",
    "    plt.plot(models[str(i)][\"costs\"], label= str(models[str(i)][\"learning_rate\"]))\n",
    "\n",
    "plt.ylabel('cost')\n",
    "plt.xlabel('iterations')\n",
    "\n",
    "legend = plt.legend(loc='upper center', shadow=True)\n",
    "frame = legend.get_frame()\n",
    "frame.set_facecolor('0.90')\n",
    "plt.show()"
   ]
  },
  {
   "cell_type": "code",
   "execution_count": null,
   "metadata": {},
   "outputs": [],
   "source": []
  }
 ],
 "metadata": {
  "kernelspec": {
   "display_name": "Python 3",
   "language": "python",
   "name": "python3"
  },
  "language_info": {
   "codemirror_mode": {
    "name": "ipython",
    "version": 3
   },
   "file_extension": ".py",
   "mimetype": "text/x-python",
   "name": "python",
   "nbconvert_exporter": "python",
   "pygments_lexer": "ipython3",
   "version": "3.7.3"
  }
 },
 "nbformat": 4,
 "nbformat_minor": 2
}
